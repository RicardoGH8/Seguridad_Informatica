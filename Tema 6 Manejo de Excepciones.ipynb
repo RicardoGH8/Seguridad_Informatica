{
 "cells": [
  {
   "cell_type": "code",
   "execution_count": 1,
   "id": "f4962806",
   "metadata": {},
   "outputs": [],
   "source": [
    "#crear  una lista de arreglos con personjes. \n",
    "\n",
    "personajes = [\"Goku\", \"Vegeta\", \"Gohan\", \"Brolly\", \"Trunks\", \"Goten\"]"
   ]
  },
  {
   "cell_type": "code",
   "execution_count": 2,
   "id": "e3153ac1",
   "metadata": {},
   "outputs": [
    {
     "name": "stdout",
     "output_type": "stream",
     "text": [
      "Vegeta\n"
     ]
    }
   ],
   "source": [
    "def obtener_personaje(indice):\n",
    "    try: \n",
    "        return personajes[indice]\n",
    "    except IndexError:\n",
    "        return \"El indice del personaje no existe\"\n",
    "    except Exception as e:\n",
    "        return f\"Error desconocido: {e}\"\n",
    "    \n",
    "print (obtener_personaje(1))"
   ]
  },
  {
   "cell_type": "code",
   "execution_count": null,
   "id": "126ac47c",
   "metadata": {},
   "outputs": [],
   "source": []
  }
 ],
 "metadata": {
  "kernelspec": {
   "display_name": "Python 3 (ipykernel)",
   "language": "python",
   "name": "python3"
  },
  "language_info": {
   "codemirror_mode": {
    "name": "ipython",
    "version": 3
   },
   "file_extension": ".py",
   "mimetype": "text/x-python",
   "name": "python",
   "nbconvert_exporter": "python",
   "pygments_lexer": "ipython3",
   "version": "3.11.4"
  }
 },
 "nbformat": 4,
 "nbformat_minor": 5
}
