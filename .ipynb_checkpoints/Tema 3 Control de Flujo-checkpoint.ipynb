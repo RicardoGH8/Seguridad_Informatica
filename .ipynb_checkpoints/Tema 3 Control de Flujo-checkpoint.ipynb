{
 "cells": [
  {
   "cell_type": "markdown",
   "id": "2c13149e",
   "metadata": {},
   "source": [
    "# Estructuras de control(If, ELIF y ELSE)"
   ]
  },
  {
   "cell_type": "code",
   "execution_count": 1,
   "id": "9dcd34c3",
   "metadata": {},
   "outputs": [
    {
     "name": "stdout",
     "output_type": "stream",
     "text": [
      "Hola Mundo\n"
     ]
    }
   ],
   "source": [
    "#Identación == 4Espacios\n",
    "a= 10\n",
    "b=5\n",
    "if a>b:\n",
    "    print(\"Hola Mundo\")\n",
    "    \n",
    "else: \n",
    "    print(\"Cómo estás\")"
   ]
  },
  {
   "cell_type": "markdown",
   "id": "adf7667b",
   "metadata": {},
   "source": [
    "#### FOR"
   ]
  },
  {
   "cell_type": "code",
   "execution_count": null,
   "id": "9517419a",
   "metadata": {},
   "outputs": [],
   "source": [
    "for (inicio;final;avance)\n",
    "{\n",
    "    codigo\n",
    "}"
   ]
  },
  {
   "cell_type": "code",
   "execution_count": 2,
   "id": "b3fde70d",
   "metadata": {},
   "outputs": [
    {
     "data": {
      "text/plain": [
       "1"
      ]
     },
     "execution_count": 2,
     "metadata": {},
     "output_type": "execute_result"
    }
   ],
   "source": [
    "numeros = [1,2,3,4,5,6,7,8,9,]\n",
    "\n",
    "num = iter(numeros)\n",
    "\n",
    "next(num)"
   ]
  },
  {
   "cell_type": "code",
   "execution_count": null,
   "id": "cfba5f77",
   "metadata": {},
   "outputs": [],
   "source": [
    "for k in valores #diccionarios:"
   ]
  },
  {
   "cell_type": "code",
   "execution_count": 6,
   "id": "1c7b7c41",
   "metadata": {},
   "outputs": [
    {
     "name": "stdout",
     "output_type": "stream",
     "text": [
      "Ingresa el valor del inicio de la tabla: 5\n",
      "Ingresa el final valor de la tabla: 6\n",
      "Ingrese el inicio a multiplicar: 3\n",
      "Ingrese final a multiplicar: 7\n",
      "Tabla de multiplicar de 5 x 3 :\n",
      "5  x 5 = 15\n",
      "5  x 6 = 20\n",
      "Tabla de multiplicar de 5 x 5 :\n",
      "5  x 5 = 25\n",
      "5  x 6 = 30\n",
      "Tabla de multiplicar de 5 x 7 :\n",
      "5  x 5 = 35\n",
      "5  x 6 = 40\n",
      "Tabla de multiplicar de 5 x 9 :\n",
      "5  x 5 = 45\n",
      "5  x 6 = 50\n",
      "Tabla de multiplicar de 5 x 11 :\n",
      "5  x 5 = 55\n",
      "5  x 6 = 60\n",
      "Tabla de multiplicar de 5 x 13 :\n",
      "5  x 5 = 65\n",
      "5  x 6 = 70\n"
     ]
    }
   ],
   "source": [
    "#tabla infinita\n",
    "\n",
    "#El usuario va a difinir el multiclando y el multiplicador y el tamaño de la tabla\n",
    "\n",
    "inicio = int(input(\"Ingresa el valor del inicio de la tabla: \"))\n",
    "final = int(input(\"Ingresa el final valor de la tabla: \"))\n",
    "intab = int(input(\"Ingrese el inicio a multiplicar: \"))\n",
    "fintab = int(input(\"Ingrese final a multiplicar: \"))\n",
    "\n",
    "for _ in range(final):\n",
    "    print(f\"Tabla de multiplicar de {inicio} x {intab} :\")\n",
    "    for i in range(inicio, final + 1):\n",
    "        resultado = inicio * intab\n",
    "        print(f\"{inicio}  x {i} = {resultado}\")\n",
    "        intab= intab+1\n",
    "\n"
   ]
  },
  {
   "cell_type": "code",
   "execution_count": null,
   "id": "6eb70798",
   "metadata": {},
   "outputs": [],
   "source": []
  }
 ],
 "metadata": {
  "kernelspec": {
   "display_name": "Python 3 (ipykernel)",
   "language": "python",
   "name": "python3"
  },
  "language_info": {
   "codemirror_mode": {
    "name": "ipython",
    "version": 3
   },
   "file_extension": ".py",
   "mimetype": "text/x-python",
   "name": "python",
   "nbconvert_exporter": "python",
   "pygments_lexer": "ipython3",
   "version": "3.11.4"
  }
 },
 "nbformat": 4,
 "nbformat_minor": 5
}
