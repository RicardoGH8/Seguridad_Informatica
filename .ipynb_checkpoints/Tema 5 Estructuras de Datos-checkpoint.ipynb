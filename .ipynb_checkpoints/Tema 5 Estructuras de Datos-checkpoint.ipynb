{
 "cells": [
  {
   "cell_type": "markdown",
   "id": "0746416e",
   "metadata": {},
   "source": [
    "## Listas ordenadas y modificables"
   ]
  },
  {
   "cell_type": "code",
   "execution_count": 6,
   "id": "d22add1b",
   "metadata": {},
   "outputs": [],
   "source": [
    "frutas =[\"manzana\", \"banana\", \"uva\"]\n",
    "numeros = [1,2,3]\n",
    "mixto = [\"texto\", 123, True, 3.14]"
   ]
  },
  {
   "cell_type": "code",
   "execution_count": 7,
   "id": "81d0de6c",
   "metadata": {
    "scrolled": true
   },
   "outputs": [
    {
     "name": "stdout",
     "output_type": "stream",
     "text": [
      "True\n",
      "uva\n"
     ]
    }
   ],
   "source": [
    "#obtener datos y modificar\n",
    "\n",
    "print (mixto[2])\n",
    "frutas [0] = \"uva\"\n",
    "\n",
    "print(frutas[0])"
   ]
  },
  {
   "cell_type": "code",
   "execution_count": 8,
   "id": "0b1c3d36",
   "metadata": {},
   "outputs": [
    {
     "name": "stdout",
     "output_type": "stream",
     "text": [
      "rojo\n",
      "verde\n",
      "azul\n",
      "amarillo\n"
     ]
    }
   ],
   "source": [
    "#Tuplas inmutables\n",
    "\n",
    "colores =(\"rojo\", \"verde\", \"azul\", \"amarillo\")\n",
    "\n",
    "for color in colores:\n",
    "    print(color)"
   ]
  },
  {
   "cell_type": "code",
   "execution_count": null,
   "id": "f7862434",
   "metadata": {},
   "outputs": [],
   "source": [
    "#conjuntos Sets colecciones no ordenadas que no se puede suplicar\n",
    "\n",
    "animales ={\"gato\", \"perro\"}\n",
    "\n",
    "#animales.add\n",
    "#animales.remove "
   ]
  },
  {
   "cell_type": "code",
   "execution_count": 15,
   "id": "ab7abf78",
   "metadata": {},
   "outputs": [],
   "source": [
    "#Diccionario clave valor\n",
    "\n",
    "persona ={\n",
    "    \"nombre\": \"Ricardo\",\n",
    "    \"apparterno\": \"Garcia\",\n",
    "    \"apmaterno\" : \"Hernandez\",\n",
    "    \"edad\" : 20,\n",
    "    \"estatura\" : 1.78,\n",
    "    \"peso\" : 80\n",
    "}\n"
   ]
  },
  {
   "cell_type": "code",
   "execution_count": 16,
   "id": "8cfa7e8f",
   "metadata": {},
   "outputs": [],
   "source": [
    "#formula = peo/ altura^2\n",
    "\n",
    "def imc(peso,estatura):\n",
    "    return peso/estatura**2\n",
    "\n",
    "persona_imc = (imc(persona[\"peso\"], persona[\"estatura\"]))"
   ]
  },
  {
   "cell_type": "code",
   "execution_count": 17,
   "id": "2b1f45b0",
   "metadata": {},
   "outputs": [
    {
     "data": {
      "text/plain": [
       "'Tienes sobrepeso'"
      ]
     },
     "execution_count": 17,
     "metadata": {},
     "output_type": "execute_result"
    }
   ],
   "source": [
    "\n",
    "def verifica_sobrepeso(peso, estatura):\n",
    "    mi_imc = imc(peso, estatura)\n",
    "    if mi_imc < 18.5:\n",
    "        return \"Tienes bajo peso\"\n",
    "    elif 18.5 <= mi_imc <25:\n",
    "        return \"Tienes un peso normal\"\n",
    "    elif 25 < mi_imc <30:\n",
    "        return \"Tienes sobrepeso\"\n",
    "    else:\n",
    "        return \"Tienes obecidad\"\n",
    "    \n",
    "verifica_sobrepeso(persona[\"peso\"], persona[\"estatura\"])"
   ]
  },
  {
   "cell_type": "code",
   "execution_count": null,
   "id": "a811253a",
   "metadata": {},
   "outputs": [],
   "source": []
  }
 ],
 "metadata": {
  "kernelspec": {
   "display_name": "Python 3 (ipykernel)",
   "language": "python",
   "name": "python3"
  },
  "language_info": {
   "codemirror_mode": {
    "name": "ipython",
    "version": 3
   },
   "file_extension": ".py",
   "mimetype": "text/x-python",
   "name": "python",
   "nbconvert_exporter": "python",
   "pygments_lexer": "ipython3",
   "version": "3.11.4"
  }
 },
 "nbformat": 4,
 "nbformat_minor": 5
}
