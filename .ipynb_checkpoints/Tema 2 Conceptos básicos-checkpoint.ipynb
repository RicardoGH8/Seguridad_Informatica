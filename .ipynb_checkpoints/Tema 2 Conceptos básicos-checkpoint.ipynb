{
 "cells": [
  {
   "cell_type": "markdown",
   "id": "d631ebfd",
   "metadata": {},
   "source": [
    "# Variables y tipos de datos"
   ]
  },
  {
   "cell_type": "code",
   "execution_count": 1,
   "id": "4a23d94c",
   "metadata": {},
   "outputs": [
    {
     "name": "stdout",
     "output_type": "stream",
     "text": [
      "Hola soy Luis, tengo 33 años y mido 1.76\n",
      "<class 'str'>\n",
      "<class 'str'>\n",
      "<class 'str'>\n",
      "<class 'str'>\n",
      "<class 'int'>\n",
      "<class 'float'>\n",
      "<class 'bool'>\n",
      "<class 'bool'>\n"
     ]
    }
   ],
   "source": [
    "# Tipo de datos\n",
    "\n",
    "nombre = 'Luis'\n",
    "ap_paterno = \"Rejón\"\n",
    "ap_materno = \"\"\"Villafaña\"\"\"\n",
    "edad = 33\n",
    "altura = 1.76\n",
    "es_estudiante = False\n",
    "es_docente = True\n",
    "\n",
    "print(F\"Hola soy {nombre}, tengo {edad} años y mido {altura}\")\n",
    "\n",
    "print (type(nombre))\n",
    "print (type (ap_paterno))\n",
    "print (type (ap_materno))\n",
    "print (type (ap_paterno))\n",
    "print (type (edad))\n",
    "print (type (altura))\n",
    "print (type (es_estudiante))\n",
    "print (type (es_docente))"
   ]
  },
  {
   "cell_type": "markdown",
   "id": "5b81842b",
   "metadata": {},
   "source": [
    "# Entradas y salidas"
   ]
  },
  {
   "cell_type": "markdown",
   "id": "24d34897",
   "metadata": {},
   "source": [
    "#### Crear un sistema que ingrese los siguientes datos"
   ]
  },
  {
   "cell_type": "code",
   "execution_count": null,
   "id": "928ecd56",
   "metadata": {},
   "outputs": [],
   "source": [
    "nombre = 'Luis'\n",
    "ap_paterno = \"Rejón\"\n",
    "ap_materno = \"\"\"Villafaña\"\"\"\n",
    "edad = 33\n",
    "altura = 1.76\n",
    "es_estudiante = False\n",
    "es_docente = True"
   ]
  },
  {
   "cell_type": "code",
   "execution_count": 2,
   "id": "73556c3e",
   "metadata": {},
   "outputs": [
    {
     "name": "stdout",
     "output_type": "stream",
     "text": [
      "Escribe tu nombre:Ricardo\n",
      "Escribe tu apellido paterno:Garcia\n",
      "Escribe tu apellido materno:Hernandez\n",
      "Escribe tu edad:20\n",
      "Escribe tu altura:1.80\n",
      "¿Qué profesión tienes?\n",
      "1. Estudiante\n",
      "2. Profesor: 1\n",
      "Tu nombre es Ricardo Garcia Hernandez, tu edad es 20, mides 1.8, eres estudiante: True, docente: False\n"
     ]
    }
   ],
   "source": [
    "nombre = input(\"Escribe tu nombre:\")\n",
    "ap_paterno = input(\"Escribe tu apellido paterno:\")\n",
    "ap_materno = input(\"Escribe tu apellido materno:\")\n",
    "edad = int(input(\"Escribe tu edad:\"))\n",
    "altura = float(input(\"Escribe tu altura:\"))\n",
    "es_estudiante = True\n",
    "es_docente = True\n",
    "profesion = 0\n",
    "\n",
    "while True:\n",
    "    profesion = int(input(\"¿Qué profesión tienes, por favor ingr?\\n1. Estudiante\\n2. Profesor: \"))\n",
    "    if profesion == 1:\n",
    "        es_estudiante = True\n",
    "        es_docente = False\n",
    "        print(f\"Tu nombre es {nombre} {ap_paterno} {ap_materno}, tu edad es {edad}, mides {altura} m, eres estudiante: {es_estudiante}, docente: {es_docente}\")\n",
    "        break\n",
    "    elif profesion == 2:\n",
    "        es_estudiante = False\n",
    "        es_docente = True\n",
    "        print(f\"Tu nombre es {nombre} {ap_paterno} {ap_materno}, tu edad es {edad}, mides {altura}, eres estudiante: {es_estudiante}, docente: {es_docente}\")\n",
    "        break\n",
    "    else:\n",
    "        print(\"Opción inválida. Por favor, selecciona 1 o 2.\")\n"
   ]
  },
  {
   "cell_type": "code",
   "execution_count": null,
   "id": "fdc8164a",
   "metadata": {},
   "outputs": [],
   "source": []
  }
 ],
 "metadata": {
  "kernelspec": {
   "display_name": "Python 3 (ipykernel)",
   "language": "python",
   "name": "python3"
  },
  "language_info": {
   "codemirror_mode": {
    "name": "ipython",
    "version": 3
   },
   "file_extension": ".py",
   "mimetype": "text/x-python",
   "name": "python",
   "nbconvert_exporter": "python",
   "pygments_lexer": "ipython3",
   "version": "3.11.4"
  }
 },
 "nbformat": 4,
 "nbformat_minor": 5
}
