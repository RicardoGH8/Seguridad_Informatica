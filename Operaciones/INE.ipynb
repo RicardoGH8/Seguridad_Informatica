{
 "cells": [
  {
   "cell_type": "code",
   "execution_count": null,
   "id": "a8ab2a1c",
   "metadata": {},
   "outputs": [],
   "source": [
    "#Crear un programa que me solicite todos los datos de la INE y que los almacene en un diccionario.\n",
    "\n",
    "#EPosteriormente se van a obtener los datos del diccionario y se va a guardar de manera estructurada en un archivo txt."
   ]
  },
  {
   "cell_type": "code",
   "execution_count": 1,
   "id": "01a861e4",
   "metadata": {},
   "outputs": [
    {
     "name": "stdout",
     "output_type": "stream",
     "text": [
      "Ingresa tu nombre(s): Ricardo\n",
      "Ingresa tus apellidos: Garcia Hernandez\n",
      "Ingresa tu edad: 20\n",
      "Ingresa tu sexo: Masculino\n",
      "Ingresa tu domicilio: Villas Lak In\n",
      "Ingresa tu CURP: GAHRASFDSF09213\n",
      "Ingresa tu CLAVE DE LECTOR: 13544353453243\n",
      "Ingresa tu Fecha de nacimiento: 08\n",
      "Ingresa fecha de vigencia: 24\n",
      "Ingrese tu seccion 547\n",
      "Datos guardados en el archivo INE.txt.\n"
     ]
    }
   ],
   "source": [
    "def datosINE():\n",
    "    datos = {}\n",
    "    datos['nombre'] = input(\"Ingresa tu nombre(s): \")\n",
    "    datos['apellido'] = input(\"Ingresa tus apellidos: \")\n",
    "    datos['edad'] = input(\"Ingresa tu edad: \")\n",
    "    datos['sexo'] = input(\"Ingresa tu sexo: \")\n",
    "    datos['domicilio'] = input(\"Ingresa tu domicilio: \")\n",
    "    datos['CURP'] = input(\"Ingresa tu CURP: \")\n",
    "    datos['claveLector'] = input(\"Ingresa tu CLAVE DE LECTOR: \")\n",
    "    datos['Fecha'] = input(\"Ingresa tu Fecha de nacimiento: \")\n",
    "    datos['Vigencia'] = input(\"Ingresa fecha de vigencia: \")\n",
    "    datos['Seccion'] = input(\"Ingrese tu seccion \")\n",
    "    return datos\n",
    "\n",
    "def guardarEnTxt(datos):\n",
    "    with open('INE.txt', 'w') as file:\n",
    "        file.write(\"Datos de la INE:\\n\")\n",
    "        for key, value in datos.items():\n",
    "            file.write(f\"{key}: {value}\\n\")\n",
    "            \n",
    "datos = datosINE()\n",
    "guardarEnTxt(datos)\n",
    "print(\"Datos guardados en el archivo INE.txt.\")\n"
   ]
  },
  {
   "cell_type": "code",
   "execution_count": null,
   "id": "95bed614",
   "metadata": {},
   "outputs": [],
   "source": []
  }
 ],
 "metadata": {
  "kernelspec": {
   "display_name": "Python 3 (ipykernel)",
   "language": "python",
   "name": "python3"
  },
  "language_info": {
   "codemirror_mode": {
    "name": "ipython",
    "version": 3
   },
   "file_extension": ".py",
   "mimetype": "text/x-python",
   "name": "python",
   "nbconvert_exporter": "python",
   "pygments_lexer": "ipython3",
   "version": "3.11.4"
  }
 },
 "nbformat": 4,
 "nbformat_minor": 5
}
