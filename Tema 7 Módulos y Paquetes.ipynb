{
 "cells": [
  {
   "cell_type": "code",
   "execution_count": 5,
   "id": "d68dbe17",
   "metadata": {},
   "outputs": [
    {
     "name": "stdout",
     "output_type": "stream",
     "text": [
      "Ingresa el primer valor: 5\n",
      "Ingresa el segundo valor: 2\n",
      "Suma: 7.0\n",
      "Resta: 3.0\n",
      "Multiplicación: 10.0\n",
      "División: 2.5\n",
      "Potencia: 25.0\n",
      "Raíz cuadrada: 2.23606797749979\n"
     ]
    }
   ],
   "source": [
    "from Operaciones import suma, resta, multiplicacion, division, raiz, potencia\n",
    "\n",
    "num1 = float(input(\"Ingresa el primer valor: \"))\n",
    "num2 = float(input(\"Ingresa el segundo valor: \"))\n",
    "\n",
    "print(f\"Suma: {suma.su(num1, num2)}\")\n",
    "print(f\"Resta: {resta.res(num1, num2)}\")\n",
    "print(f\"Multiplicación: {multiplicacion.mult(num1, num2)}\")\n",
    "print(f\"División: {division.div(num1, num2)}\")\n",
    "print(f\"Potencia: {potencia.pot(num1, num2)}\")\n",
    "print(f\"Raíz cuadrada: {raiz.ra(num1)}\")"
   ]
  },
  {
   "cell_type": "code",
   "execution_count": null,
   "id": "8d676b54",
   "metadata": {},
   "outputs": [],
   "source": []
  }
 ],
 "metadata": {
  "kernelspec": {
   "display_name": "Python 3 (ipykernel)",
   "language": "python",
   "name": "python3"
  },
  "language_info": {
   "codemirror_mode": {
    "name": "ipython",
    "version": 3
   },
   "file_extension": ".py",
   "mimetype": "text/x-python",
   "name": "python",
   "nbconvert_exporter": "python",
   "pygments_lexer": "ipython3",
   "version": "3.11.4"
  }
 },
 "nbformat": 4,
 "nbformat_minor": 5
}
